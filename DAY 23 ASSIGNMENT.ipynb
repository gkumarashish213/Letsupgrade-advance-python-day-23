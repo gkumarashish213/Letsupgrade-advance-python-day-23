{
 "cells": [
  {
   "cell_type": "markdown",
   "metadata": {},
   "source": [
    "# Question 1:\n",
    "Finder program\n",
    "\n",
    "#Dict, list, queue\n",
    "\n",
    "#directory --- os.walk()\n",
    "\n",
    "list1 = [c:, d:, e:]\n",
    "\n",
    "dict1 = {}\n",
    "\n",
    "def func(drive)\n",
    "\n",
    "resp = os.walk(drive) statem1 st dict1[file] = path for drive in list1:\n",
    "\n",
    "#th1 = Thread(target= func(drive))\n",
    "\n",
    "#th1.start() func(drive)\n",
    "\n",
    "apply join\n",
    "\n",
    "finding total time of execution # dict ---> pickle"
   ]
  },
  {
   "cell_type": "code",
   "execution_count": null,
   "metadata": {},
   "outputs": [],
   "source": [
    "import os\n",
    "import fnmatch\n",
    "\n",
    "for root, dir, files in os.walk(\".\"):\n",
    "        print \"root\"\n",
    "        print \"\"\n",
    "        for items in fnmatch.filter(files, \"*\"):\n",
    "                print \"...\" + items\n",
    "        print \"\""
   ]
  }
 ],
 "metadata": {
  "kernelspec": {
   "display_name": "Python 3",
   "language": "python",
   "name": "python3"
  },
  "language_info": {
   "codemirror_mode": {
    "name": "ipython",
    "version": 3
   },
   "file_extension": ".py",
   "mimetype": "text/x-python",
   "name": "python",
   "nbconvert_exporter": "python",
   "pygments_lexer": "ipython3",
   "version": "3.7.4"
  }
 },
 "nbformat": 4,
 "nbformat_minor": 2
}
